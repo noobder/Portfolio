{
 "cells": [
  {
   "cell_type": "code",
   "execution_count": 33,
   "metadata": {},
   "outputs": [
    {
     "name": "stdout",
     "output_type": "stream",
     "text": [
      "Defaulting to user installation because normal site-packages is not writeable\n",
      "Requirement already satisfied: sentence_transformers in c:\\users\\akash\\appdata\\roaming\\python\\python312\\site-packages (3.4.1)\n",
      "Requirement already satisfied: transformers<5.0.0,>=4.41.0 in c:\\users\\akash\\appdata\\roaming\\python\\python312\\site-packages (from sentence_transformers) (4.47.1)\n",
      "Requirement already satisfied: tqdm in c:\\users\\akash\\appdata\\roaming\\python\\python312\\site-packages (from sentence_transformers) (4.66.5)\n",
      "Requirement already satisfied: torch>=1.11.0 in c:\\users\\akash\\appdata\\roaming\\python\\python312\\site-packages (from sentence_transformers) (2.5.1+cu118)\n",
      "Requirement already satisfied: scikit-learn in c:\\users\\akash\\appdata\\roaming\\python\\python312\\site-packages (from sentence_transformers) (1.4.1.post1)\n",
      "Requirement already satisfied: scipy in c:\\users\\akash\\appdata\\roaming\\python\\python312\\site-packages (from sentence_transformers) (1.11.4)\n",
      "Requirement already satisfied: huggingface-hub>=0.20.0 in c:\\users\\akash\\appdata\\roaming\\python\\python312\\site-packages (from sentence_transformers) (0.25.1)\n",
      "Requirement already satisfied: Pillow in c:\\users\\akash\\appdata\\roaming\\python\\python312\\site-packages (from sentence_transformers) (10.3.0)\n",
      "Requirement already satisfied: filelock in c:\\users\\akash\\appdata\\roaming\\python\\python312\\site-packages (from huggingface-hub>=0.20.0->sentence_transformers) (3.16.1)\n",
      "Requirement already satisfied: fsspec>=2023.5.0 in c:\\users\\akash\\appdata\\roaming\\python\\python312\\site-packages (from huggingface-hub>=0.20.0->sentence_transformers) (2024.3.1)\n",
      "Requirement already satisfied: packaging>=20.9 in c:\\users\\akash\\appdata\\roaming\\python\\python312\\site-packages (from huggingface-hub>=0.20.0->sentence_transformers) (24.0)\n",
      "Requirement already satisfied: pyyaml>=5.1 in c:\\users\\akash\\appdata\\roaming\\python\\python312\\site-packages (from huggingface-hub>=0.20.0->sentence_transformers) (6.0.1)\n",
      "Requirement already satisfied: requests in c:\\users\\akash\\appdata\\roaming\\python\\python312\\site-packages (from huggingface-hub>=0.20.0->sentence_transformers) (2.32.3)\n",
      "Requirement already satisfied: typing-extensions>=3.7.4.3 in c:\\users\\akash\\appdata\\roaming\\python\\python312\\site-packages (from huggingface-hub>=0.20.0->sentence_transformers) (4.11.0)\n",
      "Requirement already satisfied: networkx in c:\\users\\akash\\appdata\\roaming\\python\\python312\\site-packages (from torch>=1.11.0->sentence_transformers) (3.3)\n",
      "Requirement already satisfied: jinja2 in c:\\users\\akash\\appdata\\roaming\\python\\python312\\site-packages (from torch>=1.11.0->sentence_transformers) (3.1.3)\n",
      "Requirement already satisfied: setuptools in c:\\users\\akash\\appdata\\roaming\\python\\python312\\site-packages (from torch>=1.11.0->sentence_transformers) (69.2.0)\n",
      "Requirement already satisfied: sympy==1.13.1 in c:\\users\\akash\\appdata\\roaming\\python\\python312\\site-packages (from torch>=1.11.0->sentence_transformers) (1.13.1)\n",
      "Requirement already satisfied: mpmath<1.4,>=1.1.0 in c:\\users\\akash\\appdata\\roaming\\python\\python312\\site-packages (from sympy==1.13.1->torch>=1.11.0->sentence_transformers) (1.3.0)\n",
      "Requirement already satisfied: colorama in c:\\users\\akash\\appdata\\roaming\\python\\python312\\site-packages (from tqdm->sentence_transformers) (0.4.6)\n",
      "Requirement already satisfied: numpy>=1.17 in c:\\users\\akash\\appdata\\roaming\\python\\python312\\site-packages (from transformers<5.0.0,>=4.41.0->sentence_transformers) (1.26.4)\n",
      "Requirement already satisfied: regex!=2019.12.17 in c:\\users\\akash\\appdata\\roaming\\python\\python312\\site-packages (from transformers<5.0.0,>=4.41.0->sentence_transformers) (2024.9.11)\n",
      "Requirement already satisfied: tokenizers<0.22,>=0.21 in c:\\users\\akash\\appdata\\roaming\\python\\python312\\site-packages (from transformers<5.0.0,>=4.41.0->sentence_transformers) (0.21.0)\n",
      "Requirement already satisfied: safetensors>=0.4.1 in c:\\users\\akash\\appdata\\roaming\\python\\python312\\site-packages (from transformers<5.0.0,>=4.41.0->sentence_transformers) (0.4.5)\n",
      "Requirement already satisfied: joblib>=1.2.0 in c:\\users\\akash\\appdata\\roaming\\python\\python312\\site-packages (from scikit-learn->sentence_transformers) (1.3.2)\n",
      "Requirement already satisfied: threadpoolctl>=2.0.0 in c:\\users\\akash\\appdata\\roaming\\python\\python312\\site-packages (from scikit-learn->sentence_transformers) (3.4.0)\n",
      "Requirement already satisfied: MarkupSafe>=2.0 in c:\\users\\akash\\appdata\\roaming\\python\\python312\\site-packages (from jinja2->torch>=1.11.0->sentence_transformers) (2.1.5)\n",
      "Requirement already satisfied: charset-normalizer<4,>=2 in c:\\users\\akash\\appdata\\roaming\\python\\python312\\site-packages (from requests->huggingface-hub>=0.20.0->sentence_transformers) (3.3.2)\n",
      "Requirement already satisfied: idna<4,>=2.5 in c:\\users\\akash\\appdata\\roaming\\python\\python312\\site-packages (from requests->huggingface-hub>=0.20.0->sentence_transformers) (3.6)\n",
      "Requirement already satisfied: urllib3<3,>=1.21.1 in c:\\users\\akash\\appdata\\roaming\\python\\python312\\site-packages (from requests->huggingface-hub>=0.20.0->sentence_transformers) (2.2.1)\n",
      "Requirement already satisfied: certifi>=2017.4.17 in c:\\users\\akash\\appdata\\roaming\\python\\python312\\site-packages (from requests->huggingface-hub>=0.20.0->sentence_transformers) (2024.2.2)\n"
     ]
    }
   ],
   "source": [
    "!pip install sentence_transformers"
   ]
  },
  {
   "cell_type": "code",
   "execution_count": 34,
   "metadata": {},
   "outputs": [
    {
     "name": "stdout",
     "output_type": "stream",
     "text": [
      "Defaulting to user installation because normal site-packages is not writeable\n",
      "Requirement already satisfied: faiss-cpu in c:\\users\\akash\\appdata\\roaming\\python\\python312\\site-packages (1.10.0)\n",
      "Requirement already satisfied: numpy<3.0,>=1.25.0 in c:\\users\\akash\\appdata\\roaming\\python\\python312\\site-packages (from faiss-cpu) (1.26.4)\n",
      "Requirement already satisfied: packaging in c:\\users\\akash\\appdata\\roaming\\python\\python312\\site-packages (from faiss-cpu) (24.0)\n"
     ]
    }
   ],
   "source": [
    "!pip install faiss-cpu\n"
   ]
  },
  {
   "cell_type": "code",
   "execution_count": 5,
   "metadata": {},
   "outputs": [],
   "source": [
    "from sentence_transformers import SentenceTransformer\n",
    "import json\n",
    "import numpy as np\n",
    "\n",
    "# Load pre-trained embedding model\n",
    "model = SentenceTransformer(\"all-MiniLM-L12-v2\")\n",
    "\n",
    "# Load dataset\n",
    "with open(\"details.json\", \"r\") as f:\n",
    "    data = json.load(f)\n",
    "\n",
    "# Convert content to embeddings\n",
    "texts = [item[\"content\"] for item in data]\n",
    "embeddings = model.encode(texts)\n",
    "\n",
    "# Save embeddings as a NumPy file\n",
    "np.save(\"portfolio_embeddings.npy\", embeddings)\n"
   ]
  },
  {
   "cell_type": "code",
   "execution_count": 6,
   "metadata": {},
   "outputs": [],
   "source": [
    "import faiss\n",
    "\n",
    "# Convert embeddings to float32\n",
    "embeddings = np.load(\"portfolio_embeddings.npy\").astype('float32')\n",
    "\n",
    "# Create FAISS index\n",
    "index = faiss.IndexFlatL2(embeddings.shape[1])\n",
    "index.add(embeddings)\n",
    "\n",
    "# Save the index\n",
    "faiss.write_index(index, \"portfolio_index.faiss\")\n"
   ]
  },
  {
   "cell_type": "code",
   "execution_count": 8,
   "metadata": {},
   "outputs": [
    {
     "name": "stdout",
     "output_type": "stream",
     "text": [
      "You can contact me via email at akash150421@gmail.com or by phone at 7358508187. Connect with me on LinkedIn: https://linkedin.com/in/akash-m-611333245 and GitHub: https://github.com/noobder.\n"
     ]
    }
   ],
   "source": [
    "def get_best_response(query):\n",
    "    query_embedding = model.encode([query]).astype('float32')\n",
    "    D, I = index.search(query_embedding, 3)  # Get top 3 matches\n",
    "\n",
    "    for idx in I[0]:  \n",
    "        if any(tag in query.lower() for tag in data[idx][\"tags\"]):  \n",
    "            return data[idx][\"content\"]\n",
    "\n",
    "    return data[I[0][0]][\"content\"]  # Fallback to first match\n",
    "\n",
    "print(get_best_response(\"what is your phone number ?\"))"
   ]
  },
  {
   "cell_type": "code",
   "execution_count": null,
   "metadata": {},
   "outputs": [],
   "source": [
    "model = SentenceTransformer(\"all-MiniLM-L12-v2\")\n",
    "\n",
    "# Load dataset\n",
    "with open(\"details.json\", \"r\") as f:\n",
    "    data = json.load(f)\n",
    "\n",
    "# Convert content to embeddings\n",
    "texts = [item[\"content\"] for item in data]\n",
    "embeddings = model.encode(texts)\n",
    "\n",
    "\n",
    "embeddings = np.load(\"portfolio_embeddings.npy\").astype('float32')\n",
    "\n",
    "# Create FAISS index\n",
    "index = faiss.IndexFlatL2(embeddings.shape[1])\n",
    "index.add(embeddings)\n",
    "\n",
    "query_embedding = model.encode([query]).astype('float32')\n",
    "D, I = index.search(query_embedding, 3)  # Get top 3 matches\n",
    "\n",
    "for idx in I[0]:  \n",
    "    if any(tag in query.lower() for tag in data[idx][\"tags\"]):  \n",
    "        print( data[idx][\"content\"])\n",
    "\n",
    "print( data[I[0][0]][\"content\"] ) # Fallback to first match\n",
    "\n"
   ]
  }
 ],
 "metadata": {
  "kernelspec": {
   "display_name": "Python 3",
   "language": "python",
   "name": "python3"
  },
  "language_info": {
   "codemirror_mode": {
    "name": "ipython",
    "version": 3
   },
   "file_extension": ".py",
   "mimetype": "text/x-python",
   "name": "python",
   "nbconvert_exporter": "python",
   "pygments_lexer": "ipython3",
   "version": "3.12.5"
  }
 },
 "nbformat": 4,
 "nbformat_minor": 2
}
